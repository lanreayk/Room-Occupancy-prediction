{
 "cells": [
  {
   "cell_type": "code",
   "execution_count": 1,
   "metadata": {},
   "outputs": [
    {
     "name": "stderr",
     "output_type": "stream",
     "text": [
      "c:\\Users\\yusuf\\anaconda3\\envs\\python_pracitice\\Lib\\site-packages\\pandas\\core\\arrays\\masked.py:60: UserWarning: Pandas requires version '1.3.6' or newer of 'bottleneck' (version '1.3.5' currently installed).\n",
      "  from pandas.core import (\n"
     ]
    }
   ],
   "source": [
    "import pandas as pd\n",
    "import numpy as np\n",
    "import os \n",
    "import seaborn as sns\n",
    "import matplotlib.pyplot as plt\n",
    "from sklearn.preprocessing import StandardScaler\n",
    "from sklearn.preprocessing import Normalizer\n",
    "from sklearn.model_selection import train_test_split\n",
    "from sklearn.ensemble import RandomForestClassifier\n",
    "from sklearn.metrics import accuracy_score\n",
    "from sklearn.metrics import classification_report\n",
    "from sklearn.metrics import confusion_matrix, ConfusionMatrixDisplay\n",
    "from sklearn.feature_selection import RFE\n",
    "from sklearn.linear_model import LogisticRegression"
   ]
  },
  {
   "cell_type": "code",
   "execution_count": 2,
   "metadata": {},
   "outputs": [],
   "source": [
    "# helper code\n",
    "\n",
    "def projDirBuilder2(mainDir,projName, fldrIdx=[0,1,2,3,4,5]):\n",
    "    dirList = ['data','output', 'src', 'models', 'resources', 'visuals']\n",
    "    os.chdir(mainDir)\n",
    "    os.makedirs(projName)\n",
    "    # build the dir to the new project folder\n",
    "    newDir = os.getcwd() + '/' + projName\n",
    "    # change directory to the new project folder\n",
    "    \n",
    "    os.chdir(newDir)\n",
    "    \n",
    "    for idx in fldrIdx:\n",
    "        os.makedirs(dirList[idx])\n",
    "    print(f'Directory structure for {projName} created')\n",
    "    print(f'Current working directory is: {os.getcwd()}')"
   ]
  },
  {
   "cell_type": "code",
   "execution_count": 3,
   "metadata": {},
   "outputs": [
    {
     "data": {
      "text/plain": [
       "'c:\\\\Users\\\\yusuf\\\\AppData\\\\Local\\\\Programs\\\\Microsoft VS Code'"
      ]
     },
     "execution_count": 3,
     "metadata": {},
     "output_type": "execute_result"
    }
   ],
   "source": [
    "os.getcwd()"
   ]
  },
  {
   "cell_type": "code",
   "execution_count": 4,
   "metadata": {},
   "outputs": [],
   "source": [
    "os.chdir(r'C:\\Users\\yusuf\\Desktop\\document\\resources\\main document folder\\one campus materials\\techtern vids\\Projects')"
   ]
  },
  {
   "cell_type": "code",
   "execution_count": 5,
   "metadata": {},
   "outputs": [
    {
     "data": {
      "text/plain": [
       "'C:\\\\Users\\\\yusuf\\\\Desktop\\\\document\\\\resources\\\\main document folder\\\\one campus materials\\\\techtern vids\\\\Projects'"
      ]
     },
     "execution_count": 5,
     "metadata": {},
     "output_type": "execute_result"
    }
   ],
   "source": [
    "os.getcwd()"
   ]
  },
  {
   "cell_type": "code",
   "execution_count": 6,
   "metadata": {},
   "outputs": [],
   "source": [
    "# mainDir=os.getcwd()\n",
    "# projName='room_occupancy'\n",
    "\n",
    "# projDirBuilder2(mainDir, projName)"
   ]
  },
  {
   "cell_type": "code",
   "execution_count": 7,
   "metadata": {},
   "outputs": [
    {
     "data": {
      "text/plain": [
       "'C:\\\\Users\\\\yusuf\\\\Desktop\\\\document\\\\resources\\\\main document folder\\\\one campus materials\\\\techtern vids\\\\Projects'"
      ]
     },
     "execution_count": 7,
     "metadata": {},
     "output_type": "execute_result"
    }
   ],
   "source": [
    "os.getcwd()"
   ]
  },
  {
   "cell_type": "code",
   "execution_count": 8,
   "metadata": {},
   "outputs": [],
   "source": [
    "df=pd.read_csv(r\"C:\\Users\\yusuf\\Desktop\\document\\resources\\main document folder\\one campus materials\\techtern vids\\rmOccupancy.csv\")"
   ]
  },
  {
   "cell_type": "code",
   "execution_count": 9,
   "metadata": {},
   "outputs": [
    {
     "data": {
      "text/html": [
       "<div>\n",
       "<style scoped>\n",
       "    .dataframe tbody tr th:only-of-type {\n",
       "        vertical-align: middle;\n",
       "    }\n",
       "\n",
       "    .dataframe tbody tr th {\n",
       "        vertical-align: top;\n",
       "    }\n",
       "\n",
       "    .dataframe thead th {\n",
       "        text-align: right;\n",
       "    }\n",
       "</style>\n",
       "<table border=\"1\" class=\"dataframe\">\n",
       "  <thead>\n",
       "    <tr style=\"text-align: right;\">\n",
       "      <th></th>\n",
       "      <th>date</th>\n",
       "      <th>Temperature</th>\n",
       "      <th>Humidity</th>\n",
       "      <th>Light</th>\n",
       "      <th>CO2</th>\n",
       "      <th>HumidityRatio</th>\n",
       "      <th>Occupancy</th>\n",
       "    </tr>\n",
       "  </thead>\n",
       "  <tbody>\n",
       "    <tr>\n",
       "      <th>0</th>\n",
       "      <td>2/11/2015 14:48</td>\n",
       "      <td>21.7600</td>\n",
       "      <td>31.133333</td>\n",
       "      <td>437.333333</td>\n",
       "      <td>1029.666667</td>\n",
       "      <td>0.005021</td>\n",
       "      <td>1</td>\n",
       "    </tr>\n",
       "    <tr>\n",
       "      <th>1</th>\n",
       "      <td>2/11/2015 14:49</td>\n",
       "      <td>21.7900</td>\n",
       "      <td>31.000000</td>\n",
       "      <td>437.333333</td>\n",
       "      <td>1000.000000</td>\n",
       "      <td>0.005009</td>\n",
       "      <td>1</td>\n",
       "    </tr>\n",
       "    <tr>\n",
       "      <th>2</th>\n",
       "      <td>2/11/2015 14:50</td>\n",
       "      <td>21.7675</td>\n",
       "      <td>31.122500</td>\n",
       "      <td>434.000000</td>\n",
       "      <td>1003.750000</td>\n",
       "      <td>0.005022</td>\n",
       "      <td>1</td>\n",
       "    </tr>\n",
       "    <tr>\n",
       "      <th>3</th>\n",
       "      <td>2/11/2015 14:51</td>\n",
       "      <td>21.7675</td>\n",
       "      <td>31.122500</td>\n",
       "      <td>439.000000</td>\n",
       "      <td>1009.500000</td>\n",
       "      <td>0.005022</td>\n",
       "      <td>1</td>\n",
       "    </tr>\n",
       "    <tr>\n",
       "      <th>4</th>\n",
       "      <td>2/11/2015 14:51</td>\n",
       "      <td>21.7900</td>\n",
       "      <td>31.133333</td>\n",
       "      <td>437.333333</td>\n",
       "      <td>1005.666667</td>\n",
       "      <td>0.005030</td>\n",
       "      <td>1</td>\n",
       "    </tr>\n",
       "    <tr>\n",
       "      <th>...</th>\n",
       "      <td>...</td>\n",
       "      <td>...</td>\n",
       "      <td>...</td>\n",
       "      <td>...</td>\n",
       "      <td>...</td>\n",
       "      <td>...</td>\n",
       "      <td>...</td>\n",
       "    </tr>\n",
       "    <tr>\n",
       "      <th>9747</th>\n",
       "      <td>2/18/2015 9:15</td>\n",
       "      <td>20.8150</td>\n",
       "      <td>27.717500</td>\n",
       "      <td>429.750000</td>\n",
       "      <td>1505.250000</td>\n",
       "      <td>0.004213</td>\n",
       "      <td>1</td>\n",
       "    </tr>\n",
       "    <tr>\n",
       "      <th>9748</th>\n",
       "      <td>2/18/2015 9:16</td>\n",
       "      <td>20.8650</td>\n",
       "      <td>27.745000</td>\n",
       "      <td>423.500000</td>\n",
       "      <td>1514.500000</td>\n",
       "      <td>0.004230</td>\n",
       "      <td>1</td>\n",
       "    </tr>\n",
       "    <tr>\n",
       "      <th>9749</th>\n",
       "      <td>2/18/2015 9:16</td>\n",
       "      <td>20.8900</td>\n",
       "      <td>27.745000</td>\n",
       "      <td>423.500000</td>\n",
       "      <td>1521.500000</td>\n",
       "      <td>0.004237</td>\n",
       "      <td>1</td>\n",
       "    </tr>\n",
       "    <tr>\n",
       "      <th>9750</th>\n",
       "      <td>2/18/2015 9:17</td>\n",
       "      <td>20.8900</td>\n",
       "      <td>28.022500</td>\n",
       "      <td>418.750000</td>\n",
       "      <td>1632.000000</td>\n",
       "      <td>0.004279</td>\n",
       "      <td>1</td>\n",
       "    </tr>\n",
       "    <tr>\n",
       "      <th>9751</th>\n",
       "      <td>2/18/2015 9:19</td>\n",
       "      <td>21.0000</td>\n",
       "      <td>28.100000</td>\n",
       "      <td>409.000000</td>\n",
       "      <td>1864.000000</td>\n",
       "      <td>0.004321</td>\n",
       "      <td>1</td>\n",
       "    </tr>\n",
       "  </tbody>\n",
       "</table>\n",
       "<p>9752 rows × 7 columns</p>\n",
       "</div>"
      ],
      "text/plain": [
       "                 date  Temperature   Humidity       Light          CO2  \\\n",
       "0     2/11/2015 14:48      21.7600  31.133333  437.333333  1029.666667   \n",
       "1     2/11/2015 14:49      21.7900  31.000000  437.333333  1000.000000   \n",
       "2     2/11/2015 14:50      21.7675  31.122500  434.000000  1003.750000   \n",
       "3     2/11/2015 14:51      21.7675  31.122500  439.000000  1009.500000   \n",
       "4     2/11/2015 14:51      21.7900  31.133333  437.333333  1005.666667   \n",
       "...               ...          ...        ...         ...          ...   \n",
       "9747   2/18/2015 9:15      20.8150  27.717500  429.750000  1505.250000   \n",
       "9748   2/18/2015 9:16      20.8650  27.745000  423.500000  1514.500000   \n",
       "9749   2/18/2015 9:16      20.8900  27.745000  423.500000  1521.500000   \n",
       "9750   2/18/2015 9:17      20.8900  28.022500  418.750000  1632.000000   \n",
       "9751   2/18/2015 9:19      21.0000  28.100000  409.000000  1864.000000   \n",
       "\n",
       "      HumidityRatio  Occupancy  \n",
       "0          0.005021          1  \n",
       "1          0.005009          1  \n",
       "2          0.005022          1  \n",
       "3          0.005022          1  \n",
       "4          0.005030          1  \n",
       "...             ...        ...  \n",
       "9747       0.004213          1  \n",
       "9748       0.004230          1  \n",
       "9749       0.004237          1  \n",
       "9750       0.004279          1  \n",
       "9751       0.004321          1  \n",
       "\n",
       "[9752 rows x 7 columns]"
      ]
     },
     "execution_count": 9,
     "metadata": {},
     "output_type": "execute_result"
    }
   ],
   "source": [
    "df"
   ]
  },
  {
   "cell_type": "code",
   "execution_count": 10,
   "metadata": {},
   "outputs": [
    {
     "name": "stdout",
     "output_type": "stream",
     "text": [
      "<class 'pandas.core.frame.DataFrame'>\n",
      "RangeIndex: 9752 entries, 0 to 9751\n",
      "Data columns (total 7 columns):\n",
      " #   Column         Non-Null Count  Dtype  \n",
      "---  ------         --------------  -----  \n",
      " 0   date           9752 non-null   object \n",
      " 1   Temperature    9752 non-null   float64\n",
      " 2   Humidity       9752 non-null   float64\n",
      " 3   Light          9752 non-null   float64\n",
      " 4   CO2            9752 non-null   float64\n",
      " 5   HumidityRatio  9752 non-null   float64\n",
      " 6   Occupancy      9752 non-null   int64  \n",
      "dtypes: float64(5), int64(1), object(1)\n",
      "memory usage: 533.4+ KB\n"
     ]
    }
   ],
   "source": [
    "#EDA\n",
    "df.info()"
   ]
  },
  {
   "cell_type": "code",
   "execution_count": 11,
   "metadata": {},
   "outputs": [
    {
     "data": {
      "text/plain": [
       "date             0\n",
       "Temperature      0\n",
       "Humidity         0\n",
       "Light            0\n",
       "CO2              0\n",
       "HumidityRatio    0\n",
       "Occupancy        0\n",
       "dtype: int64"
      ]
     },
     "execution_count": 11,
     "metadata": {},
     "output_type": "execute_result"
    }
   ],
   "source": [
    "df.isna().sum()   "
   ]
  },
  {
   "cell_type": "code",
   "execution_count": 12,
   "metadata": {},
   "outputs": [
    {
     "data": {
      "text/plain": [
       "Occupancy\n",
       "0    7703\n",
       "1    2049\n",
       "Name: count, dtype: int64"
      ]
     },
     "execution_count": 12,
     "metadata": {},
     "output_type": "execute_result"
    }
   ],
   "source": [
    "#check target variable: O means unoccupied while 1 means occupied\n",
    "df.Occupancy.value_counts()"
   ]
  },
  {
   "cell_type": "code",
   "execution_count": 13,
   "metadata": {},
   "outputs": [
    {
     "data": {
      "text/plain": [
       "<Figure size 2000x1000 with 0 Axes>"
      ]
     },
     "metadata": {},
     "output_type": "display_data"
    },
    {
     "data": {
      "image/png": "[encoded data removed]",
      "text/plain": [
       "<Figure size 640x480 with 8 Axes>"
      ]
     },
     "metadata": {},
     "output_type": "display_data"
    }
   ],
   "source": [
    "#distribution check\n",
    "plt.figure(figsize=(20,10))\n",
    "df.plot(kind='density', subplots=True, layout=(4,2),sharex= False)\n",
    "\n",
    "plt.tight_layout(pad=2.0)\n",
    "plt.show()"
   ]
  },
  {
   "cell_type": "code",
   "execution_count": 14,
   "metadata": {},
   "outputs": [
    {
     "data": {
      "text/html": [
       "<div>\n",
       "<style scoped>\n",
       "    .dataframe tbody tr th:only-of-type {\n",
       "        vertical-align: middle;\n",
       "    }\n",
       "\n",
       "    .dataframe tbody tr th {\n",
       "        vertical-align: top;\n",
       "    }\n",
       "\n",
       "    .dataframe thead th {\n",
       "        text-align: right;\n",
       "    }\n",
       "</style>\n",
       "<table border=\"1\" class=\"dataframe\">\n",
       "  <thead>\n",
       "    <tr style=\"text-align: right;\">\n",
       "      <th></th>\n",
       "      <th>Temperature</th>\n",
       "      <th>Humidity</th>\n",
       "      <th>Light</th>\n",
       "      <th>CO2</th>\n",
       "      <th>HumidityRatio</th>\n",
       "      <th>Occupancy</th>\n",
       "    </tr>\n",
       "  </thead>\n",
       "  <tbody>\n",
       "    <tr>\n",
       "      <th>count</th>\n",
       "      <td>9752.000000</td>\n",
       "      <td>9752.000000</td>\n",
       "      <td>9752.000000</td>\n",
       "      <td>9752.000000</td>\n",
       "      <td>9752.000000</td>\n",
       "      <td>9752.000000</td>\n",
       "    </tr>\n",
       "    <tr>\n",
       "      <th>mean</th>\n",
       "      <td>21.001768</td>\n",
       "      <td>29.891910</td>\n",
       "      <td>123.067930</td>\n",
       "      <td>753.224832</td>\n",
       "      <td>0.004589</td>\n",
       "      <td>0.210111</td>\n",
       "    </tr>\n",
       "    <tr>\n",
       "      <th>std</th>\n",
       "      <td>1.020693</td>\n",
       "      <td>3.952844</td>\n",
       "      <td>208.221275</td>\n",
       "      <td>297.096114</td>\n",
       "      <td>0.000531</td>\n",
       "      <td>0.407408</td>\n",
       "    </tr>\n",
       "    <tr>\n",
       "      <th>min</th>\n",
       "      <td>19.500000</td>\n",
       "      <td>21.865000</td>\n",
       "      <td>0.000000</td>\n",
       "      <td>484.666667</td>\n",
       "      <td>0.003275</td>\n",
       "      <td>0.000000</td>\n",
       "    </tr>\n",
       "    <tr>\n",
       "      <th>25%</th>\n",
       "      <td>20.290000</td>\n",
       "      <td>26.642083</td>\n",
       "      <td>0.000000</td>\n",
       "      <td>542.312500</td>\n",
       "      <td>0.004196</td>\n",
       "      <td>0.000000</td>\n",
       "    </tr>\n",
       "    <tr>\n",
       "      <th>50%</th>\n",
       "      <td>20.790000</td>\n",
       "      <td>30.200000</td>\n",
       "      <td>0.000000</td>\n",
       "      <td>639.000000</td>\n",
       "      <td>0.004593</td>\n",
       "      <td>0.000000</td>\n",
       "    </tr>\n",
       "    <tr>\n",
       "      <th>75%</th>\n",
       "      <td>21.533333</td>\n",
       "      <td>32.700000</td>\n",
       "      <td>208.250000</td>\n",
       "      <td>831.125000</td>\n",
       "      <td>0.004998</td>\n",
       "      <td>0.000000</td>\n",
       "    </tr>\n",
       "    <tr>\n",
       "      <th>max</th>\n",
       "      <td>24.390000</td>\n",
       "      <td>39.500000</td>\n",
       "      <td>1581.000000</td>\n",
       "      <td>2076.500000</td>\n",
       "      <td>0.005769</td>\n",
       "      <td>1.000000</td>\n",
       "    </tr>\n",
       "  </tbody>\n",
       "</table>\n",
       "</div>"
      ],
      "text/plain": [
       "       Temperature     Humidity        Light          CO2  HumidityRatio  \\\n",
       "count  9752.000000  9752.000000  9752.000000  9752.000000    9752.000000   \n",
       "mean     21.001768    29.891910   123.067930   753.224832       0.004589   \n",
       "std       1.020693     3.952844   208.221275   297.096114       0.000531   \n",
       "min      19.500000    21.865000     0.000000   484.666667       0.003275   \n",
       "25%      20.290000    26.642083     0.000000   542.312500       0.004196   \n",
       "50%      20.790000    30.200000     0.000000   639.000000       0.004593   \n",
       "75%      21.533333    32.700000   208.250000   831.125000       0.004998   \n",
       "max      24.390000    39.500000  1581.000000  2076.500000       0.005769   \n",
       "\n",
       "         Occupancy  \n",
       "count  9752.000000  \n",
       "mean      0.210111  \n",
       "std       0.407408  \n",
       "min       0.000000  \n",
       "25%       0.000000  \n",
       "50%       0.000000  \n",
       "75%       0.000000  \n",
       "max       1.000000  "
      ]
     },
     "execution_count": 14,
     "metadata": {},
     "output_type": "execute_result"
    }
   ],
   "source": [
    "df.describe()"
   ]
  },
  {
   "cell_type": "code",
   "execution_count": 15,
   "metadata": {},
   "outputs": [
    {
     "data": {
      "text/plain": [
       "0      2015-02-11 14:48:00\n",
       "1      2015-02-11 14:49:00\n",
       "2      2015-02-11 14:50:00\n",
       "3      2015-02-11 14:51:00\n",
       "4      2015-02-11 14:51:00\n",
       "               ...        \n",
       "9747   2015-02-18 09:15:00\n",
       "9748   2015-02-18 09:16:00\n",
       "9749   2015-02-18 09:16:00\n",
       "9750   2015-02-18 09:17:00\n",
       "9751   2015-02-18 09:19:00\n",
       "Name: date, Length: 9752, dtype: datetime64[ns]"
      ]
     },
     "execution_count": 15,
     "metadata": {},
     "output_type": "execute_result"
    }
   ],
   "source": [
    "#convert the time \n",
    "df['date']=pd.to_datetime(df['date'])\n",
    "df['date']"
   ]
  },
  {
   "cell_type": "code",
   "execution_count": 16,
   "metadata": {},
   "outputs": [
    {
     "name": "stdout",
     "output_type": "stream",
     "text": [
      "<class 'pandas.core.frame.DataFrame'>\n",
      "RangeIndex: 9752 entries, 0 to 9751\n",
      "Data columns (total 7 columns):\n",
      " #   Column         Non-Null Count  Dtype         \n",
      "---  ------         --------------  -----         \n",
      " 0   date           9752 non-null   datetime64[ns]\n",
      " 1   Temperature    9752 non-null   float64       \n",
      " 2   Humidity       9752 non-null   float64       \n",
      " 3   Light          9752 non-null   float64       \n",
      " 4   CO2            9752 non-null   float64       \n",
      " 5   HumidityRatio  9752 non-null   float64       \n",
      " 6   Occupancy      9752 non-null   int64         \n",
      "dtypes: datetime64[ns](1), float64(5), int64(1)\n",
      "memory usage: 533.4 KB\n"
     ]
    }
   ],
   "source": [
    "df.info()"
   ]
  },
  {
   "cell_type": "code",
   "execution_count": 17,
   "metadata": {},
   "outputs": [
    {
     "data": {
      "text/plain": [
       "27"
      ]
     },
     "execution_count": 17,
     "metadata": {},
     "output_type": "execute_result"
    }
   ],
   "source": [
    "#check for duplicates\n",
    "df.duplicated().sum()"
   ]
  },
  {
   "cell_type": "code",
   "execution_count": 18,
   "metadata": {},
   "outputs": [
    {
     "data": {
      "text/plain": [
       "0"
      ]
     },
     "execution_count": 18,
     "metadata": {},
     "output_type": "execute_result"
    }
   ],
   "source": [
    "df.drop_duplicates(inplace=True)\n",
    "df.duplicated().sum()"
   ]
  },
  {
   "cell_type": "code",
   "execution_count": 19,
   "metadata": {},
   "outputs": [
    {
     "data": {
      "text/html": [
       "<div>\n",
       "<style scoped>\n",
       "    .dataframe tbody tr th:only-of-type {\n",
       "        vertical-align: middle;\n",
       "    }\n",
       "\n",
       "    .dataframe tbody tr th {\n",
       "        vertical-align: top;\n",
       "    }\n",
       "\n",
       "    .dataframe thead th {\n",
       "        text-align: right;\n",
       "    }\n",
       "</style>\n",
       "<table border=\"1\" class=\"dataframe\">\n",
       "  <thead>\n",
       "    <tr style=\"text-align: right;\">\n",
       "      <th></th>\n",
       "      <th>index</th>\n",
       "      <th>date</th>\n",
       "      <th>Temperature</th>\n",
       "      <th>Humidity</th>\n",
       "      <th>Light</th>\n",
       "      <th>CO2</th>\n",
       "      <th>HumidityRatio</th>\n",
       "      <th>Occupancy</th>\n",
       "    </tr>\n",
       "  </thead>\n",
       "  <tbody>\n",
       "    <tr>\n",
       "      <th>0</th>\n",
       "      <td>0</td>\n",
       "      <td>2015-02-11 14:48:00</td>\n",
       "      <td>21.7600</td>\n",
       "      <td>31.133333</td>\n",
       "      <td>437.333333</td>\n",
       "      <td>1029.666667</td>\n",
       "      <td>0.005021</td>\n",
       "      <td>1</td>\n",
       "    </tr>\n",
       "    <tr>\n",
       "      <th>1</th>\n",
       "      <td>1</td>\n",
       "      <td>2015-02-11 14:49:00</td>\n",
       "      <td>21.7900</td>\n",
       "      <td>31.000000</td>\n",
       "      <td>437.333333</td>\n",
       "      <td>1000.000000</td>\n",
       "      <td>0.005009</td>\n",
       "      <td>1</td>\n",
       "    </tr>\n",
       "    <tr>\n",
       "      <th>2</th>\n",
       "      <td>2</td>\n",
       "      <td>2015-02-11 14:50:00</td>\n",
       "      <td>21.7675</td>\n",
       "      <td>31.122500</td>\n",
       "      <td>434.000000</td>\n",
       "      <td>1003.750000</td>\n",
       "      <td>0.005022</td>\n",
       "      <td>1</td>\n",
       "    </tr>\n",
       "    <tr>\n",
       "      <th>3</th>\n",
       "      <td>3</td>\n",
       "      <td>2015-02-11 14:51:00</td>\n",
       "      <td>21.7675</td>\n",
       "      <td>31.122500</td>\n",
       "      <td>439.000000</td>\n",
       "      <td>1009.500000</td>\n",
       "      <td>0.005022</td>\n",
       "      <td>1</td>\n",
       "    </tr>\n",
       "    <tr>\n",
       "      <th>4</th>\n",
       "      <td>4</td>\n",
       "      <td>2015-02-11 14:51:00</td>\n",
       "      <td>21.7900</td>\n",
       "      <td>31.133333</td>\n",
       "      <td>437.333333</td>\n",
       "      <td>1005.666667</td>\n",
       "      <td>0.005030</td>\n",
       "      <td>1</td>\n",
       "    </tr>\n",
       "    <tr>\n",
       "      <th>...</th>\n",
       "      <td>...</td>\n",
       "      <td>...</td>\n",
       "      <td>...</td>\n",
       "      <td>...</td>\n",
       "      <td>...</td>\n",
       "      <td>...</td>\n",
       "      <td>...</td>\n",
       "      <td>...</td>\n",
       "    </tr>\n",
       "    <tr>\n",
       "      <th>9720</th>\n",
       "      <td>9747</td>\n",
       "      <td>2015-02-18 09:15:00</td>\n",
       "      <td>20.8150</td>\n",
       "      <td>27.717500</td>\n",
       "      <td>429.750000</td>\n",
       "      <td>1505.250000</td>\n",
       "      <td>0.004213</td>\n",
       "      <td>1</td>\n",
       "    </tr>\n",
       "    <tr>\n",
       "      <th>9721</th>\n",
       "      <td>9748</td>\n",
       "      <td>2015-02-18 09:16:00</td>\n",
       "      <td>20.8650</td>\n",
       "      <td>27.745000</td>\n",
       "      <td>423.500000</td>\n",
       "      <td>1514.500000</td>\n",
       "      <td>0.004230</td>\n",
       "      <td>1</td>\n",
       "    </tr>\n",
       "    <tr>\n",
       "      <th>9722</th>\n",
       "      <td>9749</td>\n",
       "      <td>2015-02-18 09:16:00</td>\n",
       "      <td>20.8900</td>\n",
       "      <td>27.745000</td>\n",
       "      <td>423.500000</td>\n",
       "      <td>1521.500000</td>\n",
       "      <td>0.004237</td>\n",
       "      <td>1</td>\n",
       "    </tr>\n",
       "    <tr>\n",
       "      <th>9723</th>\n",
       "      <td>9750</td>\n",
       "      <td>2015-02-18 09:17:00</td>\n",
       "      <td>20.8900</td>\n",
       "      <td>28.022500</td>\n",
       "      <td>418.750000</td>\n",
       "      <td>1632.000000</td>\n",
       "      <td>0.004279</td>\n",
       "      <td>1</td>\n",
       "    </tr>\n",
       "    <tr>\n",
       "      <th>9724</th>\n",
       "      <td>9751</td>\n",
       "      <td>2015-02-18 09:19:00</td>\n",
       "      <td>21.0000</td>\n",
       "      <td>28.100000</td>\n",
       "      <td>409.000000</td>\n",
       "      <td>1864.000000</td>\n",
       "      <td>0.004321</td>\n",
       "      <td>1</td>\n",
       "    </tr>\n",
       "  </tbody>\n",
       "</table>\n",
       "<p>9725 rows × 8 columns</p>\n",
       "</div>"
      ],
      "text/plain": [
       "      index                date  Temperature   Humidity       Light  \\\n",
       "0         0 2015-02-11 14:48:00      21.7600  31.133333  437.333333   \n",
       "1         1 2015-02-11 14:49:00      21.7900  31.000000  437.333333   \n",
       "2         2 2015-02-11 14:50:00      21.7675  31.122500  434.000000   \n",
       "3         3 2015-02-11 14:51:00      21.7675  31.122500  439.000000   \n",
       "4         4 2015-02-11 14:51:00      21.7900  31.133333  437.333333   \n",
       "...     ...                 ...          ...        ...         ...   \n",
       "9720   9747 2015-02-18 09:15:00      20.8150  27.717500  429.750000   \n",
       "9721   9748 2015-02-18 09:16:00      20.8650  27.745000  423.500000   \n",
       "9722   9749 2015-02-18 09:16:00      20.8900  27.745000  423.500000   \n",
       "9723   9750 2015-02-18 09:17:00      20.8900  28.022500  418.750000   \n",
       "9724   9751 2015-02-18 09:19:00      21.0000  28.100000  409.000000   \n",
       "\n",
       "              CO2  HumidityRatio  Occupancy  \n",
       "0     1029.666667       0.005021          1  \n",
       "1     1000.000000       0.005009          1  \n",
       "2     1003.750000       0.005022          1  \n",
       "3     1009.500000       0.005022          1  \n",
       "4     1005.666667       0.005030          1  \n",
       "...           ...            ...        ...  \n",
       "9720  1505.250000       0.004213          1  \n",
       "9721  1514.500000       0.004230          1  \n",
       "9722  1521.500000       0.004237          1  \n",
       "9723  1632.000000       0.004279          1  \n",
       "9724  1864.000000       0.004321          1  \n",
       "\n",
       "[9725 rows x 8 columns]"
      ]
     },
     "execution_count": 19,
     "metadata": {},
     "output_type": "execute_result"
    }
   ],
   "source": [
    "df.reset_index()"
   ]
  },
  {
   "cell_type": "code",
   "execution_count": 20,
   "metadata": {},
   "outputs": [
    {
     "data": {
      "text/plain": [
       "<Axes: >"
      ]
     },
     "execution_count": 20,
     "metadata": {},
     "output_type": "execute_result"
    },
    {
     "data": {
      "image/png": "[encoded data removed]",
      "text/plain": [
       "<Figure size 2000x1000 with 2 Axes>"
      ]
     },
     "metadata": {},
     "output_type": "display_data"
    }
   ],
   "source": [
    "#check for collinearity among features\n",
    "plt.figure(figsize=(20,10))\n",
    "sns.heatmap(df.corr(), annot=True)"
   ]
  },
  {
   "cell_type": "code",
   "execution_count": 21,
   "metadata": {},
   "outputs": [
    {
     "data": {
      "text/html": [
       "<div>\n",
       "<style scoped>\n",
       "    .dataframe tbody tr th:only-of-type {\n",
       "        vertical-align: middle;\n",
       "    }\n",
       "\n",
       "    .dataframe tbody tr th {\n",
       "        vertical-align: top;\n",
       "    }\n",
       "\n",
       "    .dataframe thead th {\n",
       "        text-align: right;\n",
       "    }\n",
       "</style>\n",
       "<table border=\"1\" class=\"dataframe\">\n",
       "  <thead>\n",
       "    <tr style=\"text-align: right;\">\n",
       "      <th></th>\n",
       "      <th>Temperature</th>\n",
       "      <th>Humidity</th>\n",
       "      <th>Light</th>\n",
       "      <th>CO2</th>\n",
       "      <th>HumidityRatio</th>\n",
       "      <th>Occupancy</th>\n",
       "    </tr>\n",
       "  </thead>\n",
       "  <tbody>\n",
       "    <tr>\n",
       "      <th>0</th>\n",
       "      <td>21.7600</td>\n",
       "      <td>31.133333</td>\n",
       "      <td>437.333333</td>\n",
       "      <td>1029.666667</td>\n",
       "      <td>0.005021</td>\n",
       "      <td>1</td>\n",
       "    </tr>\n",
       "    <tr>\n",
       "      <th>1</th>\n",
       "      <td>21.7900</td>\n",
       "      <td>31.000000</td>\n",
       "      <td>437.333333</td>\n",
       "      <td>1000.000000</td>\n",
       "      <td>0.005009</td>\n",
       "      <td>1</td>\n",
       "    </tr>\n",
       "    <tr>\n",
       "      <th>2</th>\n",
       "      <td>21.7675</td>\n",
       "      <td>31.122500</td>\n",
       "      <td>434.000000</td>\n",
       "      <td>1003.750000</td>\n",
       "      <td>0.005022</td>\n",
       "      <td>1</td>\n",
       "    </tr>\n",
       "    <tr>\n",
       "      <th>3</th>\n",
       "      <td>21.7675</td>\n",
       "      <td>31.122500</td>\n",
       "      <td>439.000000</td>\n",
       "      <td>1009.500000</td>\n",
       "      <td>0.005022</td>\n",
       "      <td>1</td>\n",
       "    </tr>\n",
       "    <tr>\n",
       "      <th>4</th>\n",
       "      <td>21.7900</td>\n",
       "      <td>31.133333</td>\n",
       "      <td>437.333333</td>\n",
       "      <td>1005.666667</td>\n",
       "      <td>0.005030</td>\n",
       "      <td>1</td>\n",
       "    </tr>\n",
       "    <tr>\n",
       "      <th>...</th>\n",
       "      <td>...</td>\n",
       "      <td>...</td>\n",
       "      <td>...</td>\n",
       "      <td>...</td>\n",
       "      <td>...</td>\n",
       "      <td>...</td>\n",
       "    </tr>\n",
       "    <tr>\n",
       "      <th>9747</th>\n",
       "      <td>20.8150</td>\n",
       "      <td>27.717500</td>\n",
       "      <td>429.750000</td>\n",
       "      <td>1505.250000</td>\n",
       "      <td>0.004213</td>\n",
       "      <td>1</td>\n",
       "    </tr>\n",
       "    <tr>\n",
       "      <th>9748</th>\n",
       "      <td>20.8650</td>\n",
       "      <td>27.745000</td>\n",
       "      <td>423.500000</td>\n",
       "      <td>1514.500000</td>\n",
       "      <td>0.004230</td>\n",
       "      <td>1</td>\n",
       "    </tr>\n",
       "    <tr>\n",
       "      <th>9749</th>\n",
       "      <td>20.8900</td>\n",
       "      <td>27.745000</td>\n",
       "      <td>423.500000</td>\n",
       "      <td>1521.500000</td>\n",
       "      <td>0.004237</td>\n",
       "      <td>1</td>\n",
       "    </tr>\n",
       "    <tr>\n",
       "      <th>9750</th>\n",
       "      <td>20.8900</td>\n",
       "      <td>28.022500</td>\n",
       "      <td>418.750000</td>\n",
       "      <td>1632.000000</td>\n",
       "      <td>0.004279</td>\n",
       "      <td>1</td>\n",
       "    </tr>\n",
       "    <tr>\n",
       "      <th>9751</th>\n",
       "      <td>21.0000</td>\n",
       "      <td>28.100000</td>\n",
       "      <td>409.000000</td>\n",
       "      <td>1864.000000</td>\n",
       "      <td>0.004321</td>\n",
       "      <td>1</td>\n",
       "    </tr>\n",
       "  </tbody>\n",
       "</table>\n",
       "<p>9725 rows × 6 columns</p>\n",
       "</div>"
      ],
      "text/plain": [
       "      Temperature   Humidity       Light          CO2  HumidityRatio  \\\n",
       "0         21.7600  31.133333  437.333333  1029.666667       0.005021   \n",
       "1         21.7900  31.000000  437.333333  1000.000000       0.005009   \n",
       "2         21.7675  31.122500  434.000000  1003.750000       0.005022   \n",
       "3         21.7675  31.122500  439.000000  1009.500000       0.005022   \n",
       "4         21.7900  31.133333  437.333333  1005.666667       0.005030   \n",
       "...           ...        ...         ...          ...            ...   \n",
       "9747      20.8150  27.717500  429.750000  1505.250000       0.004213   \n",
       "9748      20.8650  27.745000  423.500000  1514.500000       0.004230   \n",
       "9749      20.8900  27.745000  423.500000  1521.500000       0.004237   \n",
       "9750      20.8900  28.022500  418.750000  1632.000000       0.004279   \n",
       "9751      21.0000  28.100000  409.000000  1864.000000       0.004321   \n",
       "\n",
       "      Occupancy  \n",
       "0             1  \n",
       "1             1  \n",
       "2             1  \n",
       "3             1  \n",
       "4             1  \n",
       "...         ...  \n",
       "9747          1  \n",
       "9748          1  \n",
       "9749          1  \n",
       "9750          1  \n",
       "9751          1  \n",
       "\n",
       "[9725 rows x 6 columns]"
      ]
     },
     "execution_count": 21,
     "metadata": {},
     "output_type": "execute_result"
    }
   ],
   "source": [
    "#drop the date column and work the rest first\n",
    "df1=df.drop('date', axis=1)\n",
    "df1"
   ]
  },
  {
   "cell_type": "code",
   "execution_count": 22,
   "metadata": {},
   "outputs": [],
   "source": [
    "#separate into X and y\n",
    "y=df1['Occupancy']\n",
    "X=df1.drop('Occupancy', axis=1)"
   ]
  },
  {
   "cell_type": "code",
   "execution_count": 23,
   "metadata": {},
   "outputs": [
    {
     "data": {
      "text/html": [
       "<div>\n",
       "<style scoped>\n",
       "    .dataframe tbody tr th:only-of-type {\n",
       "        vertical-align: middle;\n",
       "    }\n",
       "\n",
       "    .dataframe tbody tr th {\n",
       "        vertical-align: top;\n",
       "    }\n",
       "\n",
       "    .dataframe thead th {\n",
       "        text-align: right;\n",
       "    }\n",
       "</style>\n",
       "<table border=\"1\" class=\"dataframe\">\n",
       "  <thead>\n",
       "    <tr style=\"text-align: right;\">\n",
       "      <th></th>\n",
       "      <th>Temperature</th>\n",
       "      <th>Humidity</th>\n",
       "      <th>Light</th>\n",
       "      <th>CO2</th>\n",
       "      <th>HumidityRatio</th>\n",
       "    </tr>\n",
       "  </thead>\n",
       "  <tbody>\n",
       "    <tr>\n",
       "      <th>0</th>\n",
       "      <td>21.7600</td>\n",
       "      <td>31.133333</td>\n",
       "      <td>437.333333</td>\n",
       "      <td>1029.666667</td>\n",
       "      <td>0.005021</td>\n",
       "    </tr>\n",
       "    <tr>\n",
       "      <th>1</th>\n",
       "      <td>21.7900</td>\n",
       "      <td>31.000000</td>\n",
       "      <td>437.333333</td>\n",
       "      <td>1000.000000</td>\n",
       "      <td>0.005009</td>\n",
       "    </tr>\n",
       "    <tr>\n",
       "      <th>2</th>\n",
       "      <td>21.7675</td>\n",
       "      <td>31.122500</td>\n",
       "      <td>434.000000</td>\n",
       "      <td>1003.750000</td>\n",
       "      <td>0.005022</td>\n",
       "    </tr>\n",
       "    <tr>\n",
       "      <th>3</th>\n",
       "      <td>21.7675</td>\n",
       "      <td>31.122500</td>\n",
       "      <td>439.000000</td>\n",
       "      <td>1009.500000</td>\n",
       "      <td>0.005022</td>\n",
       "    </tr>\n",
       "    <tr>\n",
       "      <th>4</th>\n",
       "      <td>21.7900</td>\n",
       "      <td>31.133333</td>\n",
       "      <td>437.333333</td>\n",
       "      <td>1005.666667</td>\n",
       "      <td>0.005030</td>\n",
       "    </tr>\n",
       "    <tr>\n",
       "      <th>...</th>\n",
       "      <td>...</td>\n",
       "      <td>...</td>\n",
       "      <td>...</td>\n",
       "      <td>...</td>\n",
       "      <td>...</td>\n",
       "    </tr>\n",
       "    <tr>\n",
       "      <th>9747</th>\n",
       "      <td>20.8150</td>\n",
       "      <td>27.717500</td>\n",
       "      <td>429.750000</td>\n",
       "      <td>1505.250000</td>\n",
       "      <td>0.004213</td>\n",
       "    </tr>\n",
       "    <tr>\n",
       "      <th>9748</th>\n",
       "      <td>20.8650</td>\n",
       "      <td>27.745000</td>\n",
       "      <td>423.500000</td>\n",
       "      <td>1514.500000</td>\n",
       "      <td>0.004230</td>\n",
       "    </tr>\n",
       "    <tr>\n",
       "      <th>9749</th>\n",
       "      <td>20.8900</td>\n",
       "      <td>27.745000</td>\n",
       "      <td>423.500000</td>\n",
       "      <td>1521.500000</td>\n",
       "      <td>0.004237</td>\n",
       "    </tr>\n",
       "    <tr>\n",
       "      <th>9750</th>\n",
       "      <td>20.8900</td>\n",
       "      <td>28.022500</td>\n",
       "      <td>418.750000</td>\n",
       "      <td>1632.000000</td>\n",
       "      <td>0.004279</td>\n",
       "    </tr>\n",
       "    <tr>\n",
       "      <th>9751</th>\n",
       "      <td>21.0000</td>\n",
       "      <td>28.100000</td>\n",
       "      <td>409.000000</td>\n",
       "      <td>1864.000000</td>\n",
       "      <td>0.004321</td>\n",
       "    </tr>\n",
       "  </tbody>\n",
       "</table>\n",
       "<p>9725 rows × 5 columns</p>\n",
       "</div>"
      ],
      "text/plain": [
       "      Temperature   Humidity       Light          CO2  HumidityRatio\n",
       "0         21.7600  31.133333  437.333333  1029.666667       0.005021\n",
       "1         21.7900  31.000000  437.333333  1000.000000       0.005009\n",
       "2         21.7675  31.122500  434.000000  1003.750000       0.005022\n",
       "3         21.7675  31.122500  439.000000  1009.500000       0.005022\n",
       "4         21.7900  31.133333  437.333333  1005.666667       0.005030\n",
       "...           ...        ...         ...          ...            ...\n",
       "9747      20.8150  27.717500  429.750000  1505.250000       0.004213\n",
       "9748      20.8650  27.745000  423.500000  1514.500000       0.004230\n",
       "9749      20.8900  27.745000  423.500000  1521.500000       0.004237\n",
       "9750      20.8900  28.022500  418.750000  1632.000000       0.004279\n",
       "9751      21.0000  28.100000  409.000000  1864.000000       0.004321\n",
       "\n",
       "[9725 rows x 5 columns]"
      ]
     },
     "execution_count": 23,
     "metadata": {},
     "output_type": "execute_result"
    }
   ],
   "source": [
    "X"
   ]
  },
  {
   "cell_type": "code",
   "execution_count": 24,
   "metadata": {},
   "outputs": [
    {
     "data": {
      "text/plain": [
       "array([[2.17600000e+01, 3.11333333e+01, 4.37333333e+02, 1.02966667e+03,\n",
       "        5.02101100e-03],\n",
       "       [2.17900000e+01, 3.10000000e+01, 4.37333333e+02, 1.00000000e+03,\n",
       "        5.00858100e-03],\n",
       "       [2.17675000e+01, 3.11225000e+01, 4.34000000e+02, 1.00375000e+03,\n",
       "        5.02156900e-03],\n",
       "       ...,\n",
       "       [2.08900000e+01, 2.77450000e+01, 4.23500000e+02, 1.52150000e+03,\n",
       "        4.23681800e-03],\n",
       "       [2.08900000e+01, 2.80225000e+01, 4.18750000e+02, 1.63200000e+03,\n",
       "        4.27948500e-03],\n",
       "       [2.10000000e+01, 2.81000000e+01, 4.09000000e+02, 1.86400000e+03,\n",
       "        4.32073200e-03]])"
      ]
     },
     "execution_count": 24,
     "metadata": {},
     "output_type": "execute_result"
    }
   ],
   "source": [
    "X.values"
   ]
  },
  {
   "cell_type": "code",
   "execution_count": 25,
   "metadata": {},
   "outputs": [
    {
     "name": "stdout",
     "output_type": "stream",
     "text": [
      "Accuracy: 0.9933161953727506\n",
      "Classification Report:\n",
      "----------------------\n",
      "               precision    recall  f1-score   support\n",
      "\n",
      "      vacant       1.00      0.99      1.00      1503\n",
      "    Occupied       0.98      0.99      0.99       442\n",
      "\n",
      "    accuracy                           0.99      1945\n",
      "   macro avg       0.99      0.99      0.99      1945\n",
      "weighted avg       0.99      0.99      0.99      1945\n",
      "\n"
     ]
    }
   ],
   "source": [
    "#using the data without feature transformation\n",
    "# Splitting dataset\n",
    "X_train, X_test, y_train, y_test = train_test_split(X, y, test_size=0.2, random_state=42)\n",
    "\n",
    "# Training a simple classifier\n",
    "#clf = RandomForestClassifier()\n",
    "clf= LogisticRegression()\n",
    "clf.fit(X_train, y_train)\n",
    "\n",
    "# Predicting and evaluating the classifier\n",
    "y_pred = clf.predict(X_test)\n",
    "print(f\"Accuracy: {accuracy_score(y_test, y_pred)}\")\n",
    "clr = classification_report(y_test, y_pred, target_names={\"Occupied\",\"vacant\"})\n",
    "print(\"Classification Report:\\n----------------------\\n\", clr)"
   ]
  },
  {
   "cell_type": "code",
   "execution_count": 26,
   "metadata": {},
   "outputs": [
    {
     "data": {
      "text/html": [
       "<div>\n",
       "<style scoped>\n",
       "    .dataframe tbody tr th:only-of-type {\n",
       "        vertical-align: middle;\n",
       "    }\n",
       "\n",
       "    .dataframe tbody tr th {\n",
       "        vertical-align: top;\n",
       "    }\n",
       "\n",
       "    .dataframe thead th {\n",
       "        text-align: right;\n",
       "    }\n",
       "</style>\n",
       "<table border=\"1\" class=\"dataframe\">\n",
       "  <thead>\n",
       "    <tr style=\"text-align: right;\">\n",
       "      <th></th>\n",
       "      <th>Temperature</th>\n",
       "      <th>Humidity</th>\n",
       "      <th>Light</th>\n",
       "      <th>CO2</th>\n",
       "      <th>HumidityRatio</th>\n",
       "    </tr>\n",
       "  </thead>\n",
       "  <tbody>\n",
       "    <tr>\n",
       "      <th>5394</th>\n",
       "      <td>20.200000</td>\n",
       "      <td>30.3900</td>\n",
       "      <td>34.333333</td>\n",
       "      <td>609.25</td>\n",
       "      <td>0.004449</td>\n",
       "    </tr>\n",
       "    <tr>\n",
       "      <th>5090</th>\n",
       "      <td>20.100000</td>\n",
       "      <td>33.4000</td>\n",
       "      <td>0.000000</td>\n",
       "      <td>554.00</td>\n",
       "      <td>0.004863</td>\n",
       "    </tr>\n",
       "    <tr>\n",
       "      <th>7736</th>\n",
       "      <td>20.150000</td>\n",
       "      <td>30.6000</td>\n",
       "      <td>0.000000</td>\n",
       "      <td>713.00</td>\n",
       "      <td>0.004466</td>\n",
       "    </tr>\n",
       "    <tr>\n",
       "      <th>1561</th>\n",
       "      <td>22.150000</td>\n",
       "      <td>27.4425</td>\n",
       "      <td>444.000000</td>\n",
       "      <td>603.00</td>\n",
       "      <td>0.004529</td>\n",
       "    </tr>\n",
       "    <tr>\n",
       "      <th>2115</th>\n",
       "      <td>21.000000</td>\n",
       "      <td>24.8000</td>\n",
       "      <td>0.000000</td>\n",
       "      <td>576.00</td>\n",
       "      <td>0.003810</td>\n",
       "    </tr>\n",
       "    <tr>\n",
       "      <th>...</th>\n",
       "      <td>...</td>\n",
       "      <td>...</td>\n",
       "      <td>...</td>\n",
       "      <td>...</td>\n",
       "      <td>...</td>\n",
       "    </tr>\n",
       "    <tr>\n",
       "      <th>5750</th>\n",
       "      <td>21.917500</td>\n",
       "      <td>30.6000</td>\n",
       "      <td>62.000000</td>\n",
       "      <td>677.25</td>\n",
       "      <td>0.004982</td>\n",
       "    </tr>\n",
       "    <tr>\n",
       "      <th>5207</th>\n",
       "      <td>20.100000</td>\n",
       "      <td>32.2900</td>\n",
       "      <td>0.000000</td>\n",
       "      <td>568.00</td>\n",
       "      <td>0.004700</td>\n",
       "    </tr>\n",
       "    <tr>\n",
       "      <th>5406</th>\n",
       "      <td>20.390000</td>\n",
       "      <td>30.2000</td>\n",
       "      <td>120.000000</td>\n",
       "      <td>614.75</td>\n",
       "      <td>0.004473</td>\n",
       "    </tr>\n",
       "    <tr>\n",
       "      <th>860</th>\n",
       "      <td>20.533333</td>\n",
       "      <td>24.0300</td>\n",
       "      <td>0.000000</td>\n",
       "      <td>561.00</td>\n",
       "      <td>0.003586</td>\n",
       "    </tr>\n",
       "    <tr>\n",
       "      <th>7289</th>\n",
       "      <td>21.790000</td>\n",
       "      <td>29.3900</td>\n",
       "      <td>449.500000</td>\n",
       "      <td>933.50</td>\n",
       "      <td>0.004746</td>\n",
       "    </tr>\n",
       "  </tbody>\n",
       "</table>\n",
       "<p>7780 rows × 5 columns</p>\n",
       "</div>"
      ],
      "text/plain": [
       "      Temperature  Humidity       Light     CO2  HumidityRatio\n",
       "5394    20.200000   30.3900   34.333333  609.25       0.004449\n",
       "5090    20.100000   33.4000    0.000000  554.00       0.004863\n",
       "7736    20.150000   30.6000    0.000000  713.00       0.004466\n",
       "1561    22.150000   27.4425  444.000000  603.00       0.004529\n",
       "2115    21.000000   24.8000    0.000000  576.00       0.003810\n",
       "...           ...       ...         ...     ...            ...\n",
       "5750    21.917500   30.6000   62.000000  677.25       0.004982\n",
       "5207    20.100000   32.2900    0.000000  568.00       0.004700\n",
       "5406    20.390000   30.2000  120.000000  614.75       0.004473\n",
       "860     20.533333   24.0300    0.000000  561.00       0.003586\n",
       "7289    21.790000   29.3900  449.500000  933.50       0.004746\n",
       "\n",
       "[7780 rows x 5 columns]"
      ]
     },
     "execution_count": 26,
     "metadata": {},
     "output_type": "execute_result"
    }
   ],
   "source": [
    "X_train"
   ]
  },
  {
   "cell_type": "code",
   "execution_count": 27,
   "metadata": {},
   "outputs": [
    {
     "data": {
      "text/plain": [
       "array([[1.94400688e-02, 2.78140690e-02, 3.90707265e-01, 9.19889284e-01,\n",
       "        4.48569849e-06],\n",
       "       [1.99522696e-02, 2.83855143e-02, 4.00449406e-01, 9.15661751e-01,\n",
       "        4.58616605e-06],\n",
       "       [1.98932067e-02, 2.84426933e-02, 3.96630376e-01, 9.17321982e-01,\n",
       "        4.58918618e-06],\n",
       "       ...,\n",
       "       [1.32238482e-02, 1.75632201e-02, 2.68085194e-01, 9.63144326e-01,\n",
       "        2.68200277e-06],\n",
       "       [1.23959405e-02, 1.66283027e-02, 2.48482532e-01, 9.68414308e-01,\n",
       "        2.53940840e-06],\n",
       "       [1.10024462e-02, 1.47223209e-02, 2.14285739e-01, 9.76598086e-01,\n",
       "        2.26374388e-06]])"
      ]
     },
     "execution_count": 27,
     "metadata": {},
     "output_type": "execute_result"
    }
   ],
   "source": [
    "#initialize data transformation by normalization\n",
    "scaler=Normalizer()\n",
    "normX=scaler.fit_transform(X)\n",
    "normX"
   ]
  },
  {
   "cell_type": "code",
   "execution_count": 28,
   "metadata": {},
   "outputs": [
    {
     "name": "stdout",
     "output_type": "stream",
     "text": [
      "Accuracy: 0.9491002570694087\n",
      "Classification Report:\n",
      "----------------------\n",
      "               precision    recall  f1-score   support\n",
      "\n",
      "      vacant       0.97      0.97      0.97      1503\n",
      "    Occupied       0.89      0.89      0.89       442\n",
      "\n",
      "    accuracy                           0.95      1945\n",
      "   macro avg       0.93      0.93      0.93      1945\n",
      "weighted avg       0.95      0.95      0.95      1945\n",
      "\n"
     ]
    }
   ],
   "source": [
    "#using the data with feature transformation (e.g. normalization)\n",
    "# Splitting dataset\n",
    "X_train, X_test, y_train, y_test = train_test_split(normX, y, test_size=0.2, random_state=42)\n",
    "\n",
    "# Training a simple classifier\n",
    "#clf = RandomForestClassifier()\n",
    "clf= LogisticRegression()\n",
    "clf.fit(X_train, y_train)\n",
    "\n",
    "# Predicting and evaluating the classifier\n",
    "y_pred = clf.predict(X_test)\n",
    "print(f\"Accuracy: {accuracy_score(y_test, y_pred)}\")\n",
    "clr = classification_report(y_test, y_pred, target_names={\"Occupied\",\"vacant\"})\n",
    "print(\"Classification Report:\\n----------------------\\n\", clr)"
   ]
  },
  {
   "cell_type": "code",
   "execution_count": 29,
   "metadata": {},
   "outputs": [
    {
     "data": {
      "text/plain": [
       "array([[3.30439673e-02, 4.97131766e-02, 5.61638389e-02, 9.96635500e-01,\n",
       "        7.27761645e-06],\n",
       "       [3.61921038e-02, 6.01401128e-02, 0.00000000e+00, 9.97533608e-01,\n",
       "        8.75551093e-06],\n",
       "       [2.82236309e-02, 4.28607001e-02, 0.00000000e+00, 9.98682325e-01,\n",
       "        6.25526005e-06],\n",
       "       ...,\n",
       "       [3.24986006e-02, 4.81342687e-02, 1.91261995e-01, 9.79819260e-01,\n",
       "        7.12998736e-06],\n",
       "       [3.65433511e-02, 4.27663990e-02, 0.00000000e+00, 9.98416556e-01,\n",
       "        6.38210109e-06],\n",
       "       [2.10179892e-02, 2.83487242e-02, 4.33574398e-01, 9.00426474e-01,\n",
       "        4.57830739e-06]])"
      ]
     },
     "execution_count": 29,
     "metadata": {},
     "output_type": "execute_result"
    }
   ],
   "source": [
    "X_train"
   ]
  },
  {
   "cell_type": "code",
   "execution_count": 30,
   "metadata": {},
   "outputs": [
    {
     "data": {
      "text/html": [
       "<style>#sk-container-id-1 {color: black;background-color: white;}#sk-container-id-1 pre{padding: 0;}#sk-container-id-1 div.sk-toggleable {background-color: white;}#sk-container-id-1 label.sk-toggleable__label {cursor: pointer;display: block;width: 100%;margin-bottom: 0;padding: 0.3em;box-sizing: border-box;text-align: center;}#sk-container-id-1 label.sk-toggleable__label-arrow:before {content: \"▸\";float: left;margin-right: 0.25em;color: #696969;}#sk-container-id-1 label.sk-toggleable__label-arrow:hover:before {color: black;}#sk-container-id-1 div.sk-estimator:hover label.sk-toggleable__label-arrow:before {color: black;}#sk-container-id-1 div.sk-toggleable__content {max-height: 0;max-width: 0;overflow: hidden;text-align: left;background-color: #f0f8ff;}#sk-container-id-1 div.sk-toggleable__content pre {margin: 0.2em;color: black;border-radius: 0.25em;background-color: #f0f8ff;}#sk-container-id-1 input.sk-toggleable__control:checked~div.sk-toggleable__content {max-height: 200px;max-width: 100%;overflow: auto;}#sk-container-id-1 input.sk-toggleable__control:checked~label.sk-toggleable__label-arrow:before {content: \"▾\";}#sk-container-id-1 div.sk-estimator input.sk-toggleable__control:checked~label.sk-toggleable__label {background-color: #d4ebff;}#sk-container-id-1 div.sk-label input.sk-toggleable__control:checked~label.sk-toggleable__label {background-color: #d4ebff;}#sk-container-id-1 input.sk-hidden--visually {border: 0;clip: rect(1px 1px 1px 1px);clip: rect(1px, 1px, 1px, 1px);height: 1px;margin: -1px;overflow: hidden;padding: 0;position: absolute;width: 1px;}#sk-container-id-1 div.sk-estimator {font-family: monospace;background-color: #f0f8ff;border: 1px dotted black;border-radius: 0.25em;box-sizing: border-box;margin-bottom: 0.5em;}#sk-container-id-1 div.sk-estimator:hover {background-color: #d4ebff;}#sk-container-id-1 div.sk-parallel-item::after {content: \"\";width: 100%;border-bottom: 1px solid gray;flex-grow: 1;}#sk-container-id-1 div.sk-label:hover label.sk-toggleable__label {background-color: #d4ebff;}#sk-container-id-1 div.sk-serial::before {content: \"\";position: absolute;border-left: 1px solid gray;box-sizing: border-box;top: 0;bottom: 0;left: 50%;z-index: 0;}#sk-container-id-1 div.sk-serial {display: flex;flex-direction: column;align-items: center;background-color: white;padding-right: 0.2em;padding-left: 0.2em;position: relative;}#sk-container-id-1 div.sk-item {position: relative;z-index: 1;}#sk-container-id-1 div.sk-parallel {display: flex;align-items: stretch;justify-content: center;background-color: white;position: relative;}#sk-container-id-1 div.sk-item::before, #sk-container-id-1 div.sk-parallel-item::before {content: \"\";position: absolute;border-left: 1px solid gray;box-sizing: border-box;top: 0;bottom: 0;left: 50%;z-index: -1;}#sk-container-id-1 div.sk-parallel-item {display: flex;flex-direction: column;z-index: 1;position: relative;background-color: white;}#sk-container-id-1 div.sk-parallel-item:first-child::after {align-self: flex-end;width: 50%;}#sk-container-id-1 div.sk-parallel-item:last-child::after {align-self: flex-start;width: 50%;}#sk-container-id-1 div.sk-parallel-item:only-child::after {width: 0;}#sk-container-id-1 div.sk-dashed-wrapped {border: 1px dashed gray;margin: 0 0.4em 0.5em 0.4em;box-sizing: border-box;padding-bottom: 0.4em;background-color: white;}#sk-container-id-1 div.sk-label label {font-family: monospace;font-weight: bold;display: inline-block;line-height: 1.2em;}#sk-container-id-1 div.sk-label-container {text-align: center;}#sk-container-id-1 div.sk-container {/* jupyter's `normalize.less` sets `[hidden] { display: none; }` but bootstrap.min.css set `[hidden] { display: none !important; }` so we also need the `!important` here to be able to override the default hidden behavior on the sphinx rendered scikit-learn.org. See: https://github.com/scikit-learn/scikit-learn/issues/21755 */display: inline-block !important;position: relative;}#sk-container-id-1 div.sk-text-repr-fallback {display: none;}</style><div id=\"sk-container-id-1\" class=\"sk-top-container\"><div class=\"sk-text-repr-fallback\"><pre>RFE(estimator=LogisticRegression(), n_features_to_select=4)</pre><b>In a Jupyter environment, please rerun this cell to show the HTML representation or trust the notebook. <br />On GitHub, the HTML representation is unable to render, please try loading this page with nbviewer.org.</b></div><div class=\"sk-container\" hidden><div class=\"sk-item sk-dashed-wrapped\"><div class=\"sk-label-container\"><div class=\"sk-label sk-toggleable\"><input class=\"sk-toggleable__control sk-hidden--visually\" id=\"sk-estimator-id-1\" type=\"checkbox\" ><label for=\"sk-estimator-id-1\" class=\"sk-toggleable__label sk-toggleable__label-arrow\">RFE</label><div class=\"sk-toggleable__content\"><pre>RFE(estimator=LogisticRegression(), n_features_to_select=4)</pre></div></div></div><div class=\"sk-parallel\"><div class=\"sk-parallel-item\"><div class=\"sk-item\"><div class=\"sk-label-container\"><div class=\"sk-label sk-toggleable\"><input class=\"sk-toggleable__control sk-hidden--visually\" id=\"sk-estimator-id-2\" type=\"checkbox\" ><label for=\"sk-estimator-id-2\" class=\"sk-toggleable__label sk-toggleable__label-arrow\">estimator: LogisticRegression</label><div class=\"sk-toggleable__content\"><pre>LogisticRegression()</pre></div></div></div><div class=\"sk-serial\"><div class=\"sk-item\"><div class=\"sk-estimator sk-toggleable\"><input class=\"sk-toggleable__control sk-hidden--visually\" id=\"sk-estimator-id-3\" type=\"checkbox\" ><label for=\"sk-estimator-id-3\" class=\"sk-toggleable__label sk-toggleable__label-arrow\">LogisticRegression</label><div class=\"sk-toggleable__content\"><pre>LogisticRegression()</pre></div></div></div></div></div></div></div></div></div></div>"
      ],
      "text/plain": [
       "RFE(estimator=LogisticRegression(), n_features_to_select=4)"
      ]
     },
     "execution_count": 30,
     "metadata": {},
     "output_type": "execute_result"
    }
   ],
   "source": [
    "# feature selection using recursive feature elimination\n",
    "model= LogisticRegression()\n",
    "rfe=RFE(model,n_features_to_select=4)\n",
    "rfe.fit(normX,y)"
   ]
  },
  {
   "cell_type": "code",
   "execution_count": 31,
   "metadata": {},
   "outputs": [
    {
     "data": {
      "text/plain": [
       "4"
      ]
     },
     "execution_count": 31,
     "metadata": {},
     "output_type": "execute_result"
    }
   ],
   "source": [
    "rfe.n_features_"
   ]
  },
  {
   "cell_type": "code",
   "execution_count": 32,
   "metadata": {},
   "outputs": [
    {
     "data": {
      "text/plain": [
       "array([ True,  True,  True,  True, False])"
      ]
     },
     "execution_count": 32,
     "metadata": {},
     "output_type": "execute_result"
    }
   ],
   "source": [
    "rfe.support_"
   ]
  },
  {
   "cell_type": "code",
   "execution_count": 33,
   "metadata": {},
   "outputs": [
    {
     "data": {
      "text/plain": [
       "array([1, 1, 1, 1, 2])"
      ]
     },
     "execution_count": 33,
     "metadata": {},
     "output_type": "execute_result"
    }
   ],
   "source": [
    "rfe.ranking_"
   ]
  },
  {
   "cell_type": "markdown",
   "metadata": {},
   "source": [
    "This means the first 4 features all contributed at same rate to the model prediction, then followed my feature no 5 (humidity ratio), hence we can remove it and test the effects of the other features"
   ]
  },
  {
   "cell_type": "code",
   "execution_count": 34,
   "metadata": {},
   "outputs": [
    {
     "data": {
      "text/plain": [
       "array([[0.01944007, 0.02781407, 0.39070726, 0.91988928],\n",
       "       [0.01995227, 0.02838551, 0.40044941, 0.91566175],\n",
       "       [0.01989321, 0.02844269, 0.39663038, 0.91732198],\n",
       "       ...,\n",
       "       [0.01322385, 0.01756322, 0.26808519, 0.96314433],\n",
       "       [0.01239594, 0.0166283 , 0.24848253, 0.96841431],\n",
       "       [0.01100245, 0.01472232, 0.21428574, 0.97659809]])"
      ]
     },
     "execution_count": 34,
     "metadata": {},
     "output_type": "execute_result"
    }
   ],
   "source": [
    "normXX= normX[ :,:-1]\n",
    "normXX"
   ]
  },
  {
   "cell_type": "code",
   "execution_count": 35,
   "metadata": {},
   "outputs": [
    {
     "name": "stdout",
     "output_type": "stream",
     "text": [
      "Accuracy: 0.9491002570694087\n",
      "Classification Report:\n",
      "----------------------\n",
      "               precision    recall  f1-score   support\n",
      "\n",
      "      vacant       0.97      0.97      0.97      1503\n",
      "    Occupied       0.89      0.89      0.89       442\n",
      "\n",
      "    accuracy                           0.95      1945\n",
      "   macro avg       0.93      0.93      0.93      1945\n",
      "weighted avg       0.95      0.95      0.95      1945\n",
      "\n"
     ]
    }
   ],
   "source": [
    "#using the data with feature transformation (e.g. normalization) and feature selection (RFE)\n",
    "# Splitting dataset\n",
    "X_train, X_test, y_train, y_test = train_test_split(normXX, y, test_size=0.2, random_state=42)\n",
    "\n",
    "# Training a simple classifier\n",
    "#clf = RandomForestClassifier()\n",
    "clf= LogisticRegression()\n",
    "clf.fit(X_train, y_train)\n",
    "\n",
    "# Predicting and evaluating the classifier\n",
    "y_pred = clf.predict(X_test)\n",
    "print(f\"Accuracy: {accuracy_score(y_test, y_pred)}\")\n",
    "clr = classification_report(y_test, y_pred, target_names={\"Occupied\",\"vacant\"})\n",
    "print(\"Classification Report:\\n----------------------\\n\", clr)"
   ]
  },
  {
   "cell_type": "markdown",
   "metadata": {},
   "source": [
    "* It can be seen that the model accuracy didnot change even after removing the feature \"humidityratio\"."
   ]
  },
  {
   "cell_type": "code",
   "execution_count": 36,
   "metadata": {},
   "outputs": [
    {
     "name": "stdout",
     "output_type": "stream",
     "text": [
      "                 date  Temperature   Humidity       Light          CO2  \\\n",
      "0 2015-02-11 14:48:00      21.7600  31.133333  437.333333  1029.666667   \n",
      "1 2015-02-11 14:49:00      21.7900  31.000000  437.333333  1000.000000   \n",
      "2 2015-02-11 14:50:00      21.7675  31.122500  434.000000  1003.750000   \n",
      "3 2015-02-11 14:51:00      21.7675  31.122500  439.000000  1009.500000   \n",
      "4 2015-02-11 14:51:00      21.7900  31.133333  437.333333  1005.666667   \n",
      "\n",
      "   HumidityRatio  Occupancy  unix_timestamp  \n",
      "0       0.005021          1    1.423666e+09  \n",
      "1       0.005009          1    1.423666e+09  \n",
      "2       0.005022          1    1.423666e+09  \n",
      "3       0.005022          1    1.423666e+09  \n",
      "4       0.005030          1    1.423666e+09  \n"
     ]
    }
   ],
   "source": [
    "# Convert the datetime objects to Unix timestamps (seconds since epoch)\n",
    "df['unix_timestamp'] = df['date'].apply(lambda x: x.timestamp())\n",
    "\n",
    "# Display the first few rows to verify\n",
    "print(df.head())"
   ]
  },
  {
   "cell_type": "code",
   "execution_count": 37,
   "metadata": {},
   "outputs": [
    {
     "data": {
      "text/plain": [
       "Temperature       0\n",
       "Humidity          0\n",
       "Light             0\n",
       "CO2               0\n",
       "HumidityRatio     0\n",
       "unix_timestamp    0\n",
       "dtype: int64"
      ]
     },
     "execution_count": 37,
     "metadata": {},
     "output_type": "execute_result"
    }
   ],
   "source": [
    "XX=df.drop(['Occupancy','date'], axis=1)\n",
    "XX.isna().sum()\n"
   ]
  },
  {
   "cell_type": "code",
   "execution_count": 38,
   "metadata": {},
   "outputs": [
    {
     "data": {
      "text/plain": [
       "array([[2.17600000e+01, 3.11333333e+01, 4.37333333e+02, 1.02966667e+03,\n",
       "        5.02101100e-03, 1.42366608e+09],\n",
       "       [2.17900000e+01, 3.10000000e+01, 4.37333333e+02, 1.00000000e+03,\n",
       "        5.00858100e-03, 1.42366614e+09],\n",
       "       [2.17675000e+01, 3.11225000e+01, 4.34000000e+02, 1.00375000e+03,\n",
       "        5.02156900e-03, 1.42366620e+09],\n",
       "       ...,\n",
       "       [2.08900000e+01, 2.77450000e+01, 4.23500000e+02, 1.52150000e+03,\n",
       "        4.23681800e-03, 1.42425096e+09],\n",
       "       [2.08900000e+01, 2.80225000e+01, 4.18750000e+02, 1.63200000e+03,\n",
       "        4.27948500e-03, 1.42425102e+09],\n",
       "       [2.10000000e+01, 2.81000000e+01, 4.09000000e+02, 1.86400000e+03,\n",
       "        4.32073200e-03, 1.42425114e+09]])"
      ]
     },
     "execution_count": 38,
     "metadata": {},
     "output_type": "execute_result"
    }
   ],
   "source": [
    "XX=XX.values\n",
    "XX"
   ]
  },
  {
   "cell_type": "code",
   "execution_count": 39,
   "metadata": {},
   "outputs": [
    {
     "name": "stdout",
     "output_type": "stream",
     "text": [
      "Accuracy: 0.7727506426735219\n",
      "Classification Report:\n",
      "----------------------\n",
      "               precision    recall  f1-score   support\n",
      "\n",
      "      vacant       0.77      1.00      0.87      1503\n",
      "    Occupied       0.00      0.00      0.00       442\n",
      "\n",
      "    accuracy                           0.77      1945\n",
      "   macro avg       0.39      0.50      0.44      1945\n",
      "weighted avg       0.60      0.77      0.67      1945\n",
      "\n"
     ]
    },
    {
     "name": "stderr",
     "output_type": "stream",
     "text": [
      "c:\\Users\\yusuf\\anaconda3\\envs\\python_pracitice\\Lib\\site-packages\\sklearn\\metrics\\_classification.py:1344: UndefinedMetricWarning: Precision and F-score are ill-defined and being set to 0.0 in labels with no predicted samples. Use `zero_division` parameter to control this behavior.\n",
      "  _warn_prf(average, modifier, msg_start, len(result))\n",
      "c:\\Users\\yusuf\\anaconda3\\envs\\python_pracitice\\Lib\\site-packages\\sklearn\\metrics\\_classification.py:1344: UndefinedMetricWarning: Precision and F-score are ill-defined and being set to 0.0 in labels with no predicted samples. Use `zero_division` parameter to control this behavior.\n",
      "  _warn_prf(average, modifier, msg_start, len(result))\n",
      "c:\\Users\\yusuf\\anaconda3\\envs\\python_pracitice\\Lib\\site-packages\\sklearn\\metrics\\_classification.py:1344: UndefinedMetricWarning: Precision and F-score are ill-defined and being set to 0.0 in labels with no predicted samples. Use `zero_division` parameter to control this behavior.\n",
      "  _warn_prf(average, modifier, msg_start, len(result))\n"
     ]
    }
   ],
   "source": [
    "#using the data with unix time code date convertion\n",
    "# Splitting dataset\n",
    "X_train, X_test, y_train, y_test = train_test_split(XX, y, test_size=0.2, random_state=42)\n",
    "\n",
    "# Training a simple classifier\n",
    "#clf = RandomForestClassifier()\n",
    "clf= LogisticRegression()\n",
    "clf.fit(X_train, y_train)\n",
    "\n",
    "# Predicting and evaluating the classifier\n",
    "y_pred = clf.predict(X_test)\n",
    "print(f\"Accuracy: {accuracy_score(y_test, y_pred)}\")\n",
    "clr = classification_report(y_test, y_pred, target_names={\"Occupied\",\"vacant\"})\n",
    "print(\"Classification Report:\\n----------------------\\n\", clr)"
   ]
  },
  {
   "cell_type": "code",
   "execution_count": 40,
   "metadata": {},
   "outputs": [
    {
     "data": {
      "text/plain": [
       "array([[2.02000000e+01, 3.03900000e+01, 3.43333333e+01, 6.09250000e+02,\n",
       "        4.44885600e-03, 1.42398972e+09],\n",
       "       [2.01000000e+01, 3.34000000e+01, 0.00000000e+00, 5.54000000e+02,\n",
       "        4.86254600e-03, 1.42397148e+09],\n",
       "       [2.01500000e+01, 3.06000000e+01, 0.00000000e+00, 7.13000000e+02,\n",
       "        4.46588500e-03, 1.42413024e+09],\n",
       "       ...,\n",
       "       [2.03900000e+01, 3.02000000e+01, 1.20000000e+02, 6.14750000e+02,\n",
       "        4.47343700e-03, 1.42399044e+09],\n",
       "       [2.05333333e+01, 2.40300000e+01, 0.00000000e+00, 5.61000000e+02,\n",
       "        3.58603700e-03, 1.42371768e+09],\n",
       "       [2.17900000e+01, 2.93900000e+01, 4.49500000e+02, 9.33500000e+02,\n",
       "        4.74647300e-03, 1.42410342e+09]])"
      ]
     },
     "execution_count": 40,
     "metadata": {},
     "output_type": "execute_result"
    }
   ],
   "source": [
    "X_train"
   ]
  },
  {
   "cell_type": "code",
   "execution_count": 41,
   "metadata": {},
   "outputs": [
    {
     "data": {
      "text/plain": [
       "array([[1.52844830e-08, 2.18684239e-08, 3.07188139e-07, 7.23250123e-07,\n",
       "        3.52681789e-12, 1.00000000e+00],\n",
       "       [1.53055547e-08, 2.17747681e-08, 3.07188126e-07, 7.02411873e-07,\n",
       "        3.51808676e-12, 1.00000000e+00],\n",
       "       [1.52897498e-08, 2.18608126e-08, 3.04846740e-07, 7.05045888e-07,\n",
       "        3.52720954e-12, 1.00000000e+00],\n",
       "       ...,\n",
       "       [1.46673589e-08, 1.94804152e-08, 2.97349282e-07, 1.06828083e-06,\n",
       "        2.97476928e-12, 1.00000000e+00],\n",
       "       [1.46673583e-08, 1.96752536e-08, 2.94014183e-07, 1.14586542e-06,\n",
       "        3.00472665e-12, 1.00000000e+00],\n",
       "       [1.47445906e-08, 1.97296665e-08, 2.87168455e-07, 1.30875795e-06,\n",
       "        3.03368688e-12, 1.00000000e+00]])"
      ]
     },
     "execution_count": 41,
     "metadata": {},
     "output_type": "execute_result"
    }
   ],
   "source": [
    "normXXX=scaler.fit_transform(XX)\n",
    "normXXX"
   ]
  },
  {
   "cell_type": "code",
   "execution_count": 42,
   "metadata": {},
   "outputs": [
    {
     "name": "stdout",
     "output_type": "stream",
     "text": [
      "Accuracy: 0.7727506426735219\n",
      "Classification Report:\n",
      "----------------------\n",
      "               precision    recall  f1-score   support\n",
      "\n",
      "      vacant       0.77      1.00      0.87      1503\n",
      "    Occupied       0.00      0.00      0.00       442\n",
      "\n",
      "    accuracy                           0.77      1945\n",
      "   macro avg       0.39      0.50      0.44      1945\n",
      "weighted avg       0.60      0.77      0.67      1945\n",
      "\n"
     ]
    },
    {
     "name": "stderr",
     "output_type": "stream",
     "text": [
      "c:\\Users\\yusuf\\anaconda3\\envs\\python_pracitice\\Lib\\site-packages\\sklearn\\metrics\\_classification.py:1344: UndefinedMetricWarning: Precision and F-score are ill-defined and being set to 0.0 in labels with no predicted samples. Use `zero_division` parameter to control this behavior.\n",
      "  _warn_prf(average, modifier, msg_start, len(result))\n",
      "c:\\Users\\yusuf\\anaconda3\\envs\\python_pracitice\\Lib\\site-packages\\sklearn\\metrics\\_classification.py:1344: UndefinedMetricWarning: Precision and F-score are ill-defined and being set to 0.0 in labels with no predicted samples. Use `zero_division` parameter to control this behavior.\n",
      "  _warn_prf(average, modifier, msg_start, len(result))\n",
      "c:\\Users\\yusuf\\anaconda3\\envs\\python_pracitice\\Lib\\site-packages\\sklearn\\metrics\\_classification.py:1344: UndefinedMetricWarning: Precision and F-score are ill-defined and being set to 0.0 in labels with no predicted samples. Use `zero_division` parameter to control this behavior.\n",
      "  _warn_prf(average, modifier, msg_start, len(result))\n"
     ]
    }
   ],
   "source": [
    "#using the data with unix time code date convertion and normalization\n",
    "# Splitting dataset\n",
    "X_train, X_test, y_train, y_test = train_test_split(normXXX, y, test_size=0.2, random_state=42)\n",
    "\n",
    "# Training a simple classifier\n",
    "#clf = RandomForestClassifier()\n",
    "clf= LogisticRegression()\n",
    "clf.fit(X_train, y_train)\n",
    "\n",
    "# Predicting and evaluating the classifier\n",
    "y_pred = clf.predict(X_test)\n",
    "print(f\"Accuracy: {accuracy_score(y_test, y_pred)}\")\n",
    "clr = classification_report(y_test, y_pred, target_names={\"Occupied\",\"vacant\"})\n",
    "print(\"Classification Report:\\n----------------------\\n\", clr)"
   ]
  },
  {
   "cell_type": "code",
   "execution_count": 43,
   "metadata": {},
   "outputs": [
    {
     "data": {
      "text/plain": [
       "array([[1.41854957e-08, 2.13414462e-08, 2.41106609e-08, 4.27847190e-07,\n",
       "        3.12421918e-12, 1.00000000e+00],\n",
       "       [1.41154512e-08, 2.34555259e-08, 0.00000000e+00, 3.89052736e-07,\n",
       "        3.41477766e-12, 1.00000000e+00],\n",
       "       [1.41489868e-08, 2.14867988e-08, 0.00000000e+00, 5.00656457e-07,\n",
       "        3.13586839e-12, 1.00000000e+00],\n",
       "       ...,\n",
       "       [1.43189164e-08, 2.12080075e-08, 8.42702287e-08, 4.31709359e-07,\n",
       "        3.14147966e-12, 1.00000000e+00],\n",
       "       [1.44223350e-08, 1.68783463e-08, 0.00000000e+00, 3.94038796e-07,\n",
       "        2.51878378e-12, 1.00000000e+00],\n",
       "       [1.53008550e-08, 2.06375461e-08, 3.15637189e-07, 6.55500146e-07,\n",
       "        3.33295527e-12, 1.00000000e+00]])"
      ]
     },
     "execution_count": 43,
     "metadata": {},
     "output_type": "execute_result"
    }
   ],
   "source": [
    "X_train"
   ]
  }
 ],
 "metadata": {
  "kernelspec": {
   "display_name": "python_pracitice",
   "language": "python",
   "name": "python3"
  },
  "language_info": {
   "codemirror_mode": {
    "name": "ipython",
    "version": 3
   },
   "file_extension": ".py",
   "mimetype": "text/x-python",
   "name": "python",
   "nbconvert_exporter": "python",
   "pygments_lexer": "ipython3",
   "version": "3.11.3"
  }
 },
 "nbformat": 4,
 "nbformat_minor": 2
}
